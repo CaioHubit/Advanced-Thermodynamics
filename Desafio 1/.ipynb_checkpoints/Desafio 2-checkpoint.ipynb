{
 "cells": [
  {
   "cell_type": "markdown",
   "id": "172851c1-966b-4f96-9c6d-f52640e0f017",
   "metadata": {
    "tags": []
   },
   "source": [
    "## Desafio 2"
   ]
  },
  {
   "cell_type": "markdown",
   "id": "0ef91945-7765-4789-8f59-8196b5932e5e",
   "metadata": {},
   "source": [
    "Separação das substâncias líquidas da mistura.\n",
    "\n",
    "Como descrito no desafio 1, nossa mistura consiste em uma um líquido monofásico de água e glicerina (Glicerol). Como apenas um desses pode servir como combustível no ciclo de Rankine, nosso objetivo agora no desafio 2 é separar totalmente a mistura em suas duas substâncias componentes, de maneira a purificar o glicerol.\n",
    "\n",
    "Mas afinal, quais são as características relevantes da nossa mistura, antes que seja feito essa separação?\n",
    "\n",
    "### Volume da Mistura\n",
    "\n",
    "O primeiro ponto a se verificar quando se trata de separações de misturas, é o volume da mesma. Estaremos trabalhando, como foi orientado pelo nosso professor, com a massa total da mistura de uma tonelada, ou 1000 kgs. Uma escolha nossa é que 80% da massa da mistura será composta de glicerina, e apenas 20% será água. Isso será importantíssimo pros cálculos que seguirão."
   ]
  },
  {
   "cell_type": "code",
   "execution_count": 1,
   "id": "055d1faf-3d63-45d1-baa9-5ed6cecba49b",
   "metadata": {},
   "outputs": [
    {
     "name": "stdout",
     "output_type": "stream",
     "text": [
      "A quantidade em mol de glicerina na mistura é 8686.793532942818\n",
      "e a quantidade em mol de água é 11101.687012358398\n",
      "\n",
      "A quantidade de mols de molécula nessa mistura então são 19788.480545301216\n",
      "\n",
      "A fração molar de glicerol e água nessas moléculas então são em porcentagem, respectivamente:\n",
      "43.89823419264751\n",
      "56.101765807352486\n"
     ]
    }
   ],
   "source": [
    "#Definindo as massas\n",
    "Massa_Total_Mistura = 1000000 #gramas\n",
    "Massa_Gly = Massa_Total_Mistura * 0.8 \n",
    "Massa_Gua = Massa_Total_Mistura * 0.2\n",
    "\n",
    "\n",
    "#Calculando a quantidade de moléculas em mol\n",
    "peso_molecular_gly = 92.09382\n",
    "#800kg = x * 92.09382 g/mol\n",
    "x = Massa_Gly / (92.09382)\n",
    "print(\"A quantidade em mol de glicerina na mistura é\", x)\n",
    "\n",
    "peso_molecular_gua = 18.01528\n",
    "#200kg = y * 18.01528 g/mol\n",
    "y = Massa_Gua / (18.01528)\n",
    "print(\"e a quantidade em mol de água é\", y)\n",
    "\n",
    "\n",
    "#Calculando a fração molar de cada substância:\n",
    "Quantidade_Total_Mistura_Mols = x + y\n",
    "print()\n",
    "print(\"A quantidade de mols de molécula nessa mistura então são\", Quantidade_Total_Mistura_Mols)\n",
    "\n",
    "Fração_Molar_Gly = x / Quantidade_Total_Mistura_Mols\n",
    "Fração_Molar_Gua = y / Quantidade_Total_Mistura_Mols\n",
    "\n",
    "print()\n",
    "print(\"A fração molar de glicerol e água nessas moléculas então são em porcentagem, respectivamente:\")\n",
    "print(Fração_Molar_Gly * 100)\n",
    "print(Fração_Molar_Gua * 100)\n",
    "densidade_da_mistura_80_glycerol = 1.20240"
   ]
  },
  {
   "cell_type": "markdown",
   "id": "c96f5b53-bc08-4d39-9241-bbad334c75e1",
   "metadata": {},
   "source": [
    "Agora que já temos as informações acima, podemos calcular finalmente o volume molar da nossa substância, e assim descobrir o volume total de nossa mistura.\n",
    "\n",
    "Sabe-se que, o volume molar de uma mistura líquida pode ser dado por:  \n",
    "\n",
    "$$ V_{por mol} = \\frac{x_1 mw_1 + (1 - x_1)mw_2}{\\rho_{mistura (x_1)}} $$  \n",
    "\n",
    "Onde:  \n",
    "**x1** é a fração molar da substância 1 na mistura (enquanto 1 - x1 é igual a x2, pois são números complementares);  \n",
    "**mw** significa molecular weight, e portanto se refere ao peso molecular das substâncias 1 ou 2;\n",
    "**\"rho\"** se refere à densidade da mistura, que é um número empírico e então foi procurado na literatura.\n",
    "\n",
    "Então, podemos definir e aplicar a função para a nossa mistura:"
   ]
  },
  {
   "cell_type": "code",
   "execution_count": 2,
   "id": "11e490df-b1c6-4efd-9901-a0be05a0f0d2",
   "metadata": {},
   "outputs": [],
   "source": [
    "#Primeiramente, definindo a constante \n",
    "densidade_da_mistura = 1.20240 ## https://www.researchgate.net/figure/Densities-g-cm-3-for-glycerol-water-mixtures-at-various-temperatures-16-G_tbl1_235754346\n",
    "\n",
    "def volume_mistura(fracao1, fracao2, peso_mol_1, peso_mol_2, densidade_da_mistura):\n",
    "    volume = ((fracao1 * peso_mol_1) + ((fracao2) * peso_mol_2)) / densidade_da_mistura\n",
    "    \n",
    "    return volume"
   ]
  },
  {
   "cell_type": "code",
   "execution_count": 3,
   "id": "2d967c0b-a4bc-4429-978e-765e457f4913",
   "metadata": {},
   "outputs": [
    {
     "name": "stdout",
     "output_type": "stream",
     "text": [
      "o volume em mol da mistura é 42.02798650673159 ml/mol\n"
     ]
    }
   ],
   "source": [
    "#Agora, finalmente, o volume molar:\n",
    "print(\"o volume em mol da mistura é\",volume_mistura(Fração_Molar_Gly,Fração_Molar_Gua,peso_molecular_gly,peso_molecular_gua,densidade_da_mistura), \"ml/mol\")"
   ]
  },
  {
   "cell_type": "markdown",
   "id": "b5b63717-2829-4f97-a28f-e15b61d81eca",
   "metadata": {},
   "source": [
    "Agora, para descobrir o volume total da mistura, é necessário apenas multiplicar a quantidade em mol da mistura total com esse volume molar."
   ]
  },
  {
   "cell_type": "code",
   "execution_count": 4,
   "id": "1b0093a5-0f6f-4fa3-a252-ce0551bba04b",
   "metadata": {},
   "outputs": [
    {
     "name": "stdout",
     "output_type": "stream",
     "text": [
      "Assim, finalmente descobrimos que o volume de nossa mistura é de 831.6699933466401 Litros.\n"
     ]
    }
   ],
   "source": [
    "print(\"Assim, finalmente descobrimos que o volume de nossa mistura é de\", volume_mistura(Fração_Molar_Gly,Fração_Molar_Gua,peso_molecular_gly,peso_molecular_gua,densidade_da_mistura) * 0.001 * Quantidade_Total_Mistura_Mols,\"Litros.\")"
   ]
  },
  {
   "cell_type": "markdown",
   "id": "60da7ca5-f972-46f2-91f7-d5a439a86388",
   "metadata": {},
   "source": [
    "Essa resposta é bastante coerente. Sabemos que Glicerina é mais denso que a água e, logo, a mistura com certeza ocuparia menos de 1000 litros (menos que um metro³). Uma coisa importante de se ressaltar é que pegamos a densidade da mistura para a temperatura de 303.15K (30 graus Celsius), e para a pressão atmosférica de 1 atm. "
   ]
  },
  {
   "cell_type": "markdown",
   "id": "4d703687-dfca-4431-949a-9af64ddf16ee",
   "metadata": {},
   "source": [
    "### Pressão de vapor e idealidade da mistura\n",
    "\n",
    "Uma questão muito importante surge quando analisamos as pressões de vapor de solvente puro da água e da glicerina. Ambas as substâncias não são voláteis por serem moléculas polares capazes de formar ligações de hidrogênio. O glicerol, em especial, constitui-se de três grupos hidroxilas que aumentam ainda mais a interações entre suas moléculas e as de água. Nesse sentido, quando se analisa os valores empíricos dessas pressões, pode-se ver que a glicerina em especial tem sua pressão de vapor de solvente puro próxima ao valor zero.\n",
    "\n",
    "Pressões de vapor de solvente puro:  \n",
    "Água: 3173.073 Pa  \n",
    "Glycerol: 0.0106 Pa  \n",
    "\n",
    "Por causa disso, se usarmos a **Lei de Raoult** para verificar a pressão de vapor segundo a idealidade da mistura, iremos perceber que ela não pode ser real. \n",
    "Mas afinal, o que define uma mistura como sendo ideal ou não ideal?\n",
    "\n",
    "Considerando que a pressão de vapor da água é de 23.8 mmHg"
   ]
  },
  {
   "cell_type": "code",
   "execution_count": 5,
   "id": "699a73ee-2834-4fc5-b87f-6be2e3a96bfc",
   "metadata": {},
   "outputs": [],
   "source": [
    "# Import das bibliotecas\n",
    "from matplotlib import pyplot as plt"
   ]
  },
  {
   "cell_type": "code",
   "execution_count": 6,
   "id": "8a56ea16-3224-4e83-86d0-01794b058588",
   "metadata": {},
   "outputs": [],
   "source": [
    "# Definindo as funções\n",
    "def raoult(x,p):\n",
    "    Raoult = x * p\n",
    "    return Raoult\n",
    "\n",
    "def fazedor_de_retas(x,lista):\n",
    "    lista_nova = []\n",
    "    for i in lista:\n",
    "        lista_nova.append(raoult(i,x))\n",
    "    return lista_nova"
   ]
  },
  {
   "cell_type": "code",
   "execution_count": 7,
   "id": "f3074a15-db3e-47a4-88f4-6f087f79bd31",
   "metadata": {},
   "outputs": [
    {
     "name": "stdout",
     "output_type": "stream",
     "text": [
      "[0.0, 0.00106, 0.00212, 0.00318, 0.00424, 0.0053, 0.00636, 0.0074199999999999995, 0.00848, 0.00954, 0.0106]\n",
      "\n",
      "[3173.073, 2855.7657, 2538.4584, 2221.1510999999996, 1903.8437999999999, 1586.5365, 1269.2292, 951.9218999999999, 634.6146, 317.3073, 0.0]\n"
     ]
    }
   ],
   "source": [
    "#Constantes:\n",
    "Vapor_Pressure_Gly = 0000.0106 #KPascal\n",
    "Vapor_Pressure_Gua = 3173.073 #KPascal\n",
    "\n",
    "lista_frações_molares = [0, 0.1, 0.2, 0.3, 0.4, 0.5, 0.6, 0.7, 0.8, 0.9, 1]\n",
    "\n",
    "Valores_Pressoes_Gly = fazedor_de_retas(Vapor_Pressure_Gly,lista_frações_molares)\n",
    "Valores_Pressoes_Gua = fazedor_de_retas(Vapor_Pressure_Gua,lista_frações_molares)\n",
    "\n",
    "Valores_Pressoes_Gua.reverse()\n",
    "\n",
    "print(Valores_Pressoes_Gly)\n",
    "print()\n",
    "print(Valores_Pressoes_Gua)                          \n",
    "    "
   ]
  },
  {
   "cell_type": "code",
   "execution_count": 8,
   "id": "30d26dca-44c0-4356-882a-6f1020224e40",
   "metadata": {},
   "outputs": [
    {
     "data": {
      "image/png": "[encoded data removed]",
      "text/plain": [
       "<Figure size 450x450 with 1 Axes>"
      ]
     },
     "metadata": {
      "needs_background": "light"
     },
     "output_type": "display_data"
    }
   ],
   "source": [
    "#Plotando o gráfico.\n",
    "fig, axe = plt.subplots(ncols=1, nrows=1, figsize=(3, 3), dpi=150,)\n",
    "axe.plot(Valores_Pressoes_Gly)\n",
    "axe.plot(Valores_Pressoes_Gua)\n",
    "plt.text(0, 200, \"Pgly = Fração x P*\")\n",
    "plt.text(1, 3000, \"Pgua = Fração Molar x P*\")\n",
    "plt.title(\"Comparação de Pressão de Vapor: Água/Glicerol\")\n",
    "plt.xlabel('Fração Molar de Glicerol')\n",
    "plt.ylabel('Pressão [PA]')\n",
    "plt.show()"
   ]
  },
  {
   "cell_type": "markdown",
   "id": "208b19da-0e62-4abd-abad-d97d8ccf2fdb",
   "metadata": {},
   "source": [
    "<figcaption> $ \\textbf{Fig. 1:}$ Gráfico de comparação entre as retas da lei de raoult aplicado para água, em laranja, e para glicerol, em azul. </figcaption>\n",
    "</dt>"
   ]
  },
  {
   "cell_type": "markdown",
   "id": "5eee385a-0028-4cc4-aeaa-d6cd7ce13b35",
   "metadata": {},
   "source": [
    "Esse gráfico nos mostra de certa forma, um absurdo. Nenhum gráfico de Lei de Raoult convencional deveria ser desse jeito. Como foi dito acima, a pressão de vapor do Glicerol é quase nulo, e a pressão de água, mesmo sendo baixa em relação a outros compostos mais voláteis, ainda é muito mais significativo. Por causa disso, não faz sentido somar um ao outro pra conseguir a Pressão de Vapor da mistura, pois ela será totalmente guiada pela fração molar da água.  \n",
    "  \n",
    "Assim, podemos entender também que essa mistura está longe de ser ideal. Uma mistura ideal é aquela que pode ser resolvida dentro da Lei de Raoult. Podemos ver a curva real da pressão de vapor em um gráfico isotérmico de diagrama de fases:\n",
    "\n",
    "<center>\n",
    "<img src = \"Diagrama de Faze.png\" style=\"width:400px;height:400px\">\n",
    "<figcaption> $ \\textbf{Fig. 2:}$ O diagrama de fases binário isotérmico. Nele, podemos ver para a temperatura constante de 25 graus, o comportamento da pressão de vapor da mistura (dados em quilopascal, no eixo y) pela fração molar da glicerina.  </figcaption>\n",
    "</center>\n",
    "</dt>\n",
    "  \n",
    "  \n",
    "Agora que já temos isso, podemos finalmente partir para a separação da mistura, e será utilizada a regra da alavanca."
   ]
  },
  {
   "cell_type": "markdown",
   "id": "4165f2e6-0d6e-4af9-9dcb-854c30268d1d",
   "metadata": {},
   "source": [
    "### Regra da Alavanca para separação das misturas\n",
    "\n",
    "Primeiramente, faremos uma mudança em relação as condições apresentadas no primeiro desafio. Lá, haviamos usado a condição isobárica de 8 atm para a construção do diagrama de fases. Isso se mostrou complicado pois aumenta a temperatura em que ocorreria a vaporização. Infelizmente, apesar de não inviabilizar a regra da alavanca, em altas temperaturas a glicerina começa a se decompor por desidratação e se transforma em acroleína. Por causa disso, precisamos diminuir muito a pressão externa no sistema, mais especificamente trabalharemos com a pressão externa de 0.5 atm.\n",
    "\n",
    "Além disso, uma decisão muito importante para se fazer é fração da água e glicerol em nossa mistura. Uma primeira consideração é que nossa substância alvo é o glicerol, então nossa mistura deve tender a ter mais glicerina do que água. Escolhemos então 80% de massa da mistura ser glicerina e 20% água. Vendo no nosso diagrama de fases abaixo, percebe-se que essa concentração nos ajuda convenientemente a separar as duas substâncias em apenas um ciclo de destilação.\n",
    "\n",
    "<center>\n",
    "<img src = \"Regra da Lavanca.png\" style=\"width:400px;height:400px\">\n",
    "<figcaption> $ \\textbf{Fig. 3:}$ Diagrama de fases isobárico da mistura binária de água e glicerol. A pressão externa é 0.5 atm, e selecionamos a fração molar de água como aproximadamente 0.56 mol por 1 mol da mistura. Essa seleção é o corte vermelho escuro e podemos ver que a regra da alavanca, aplicada pela linha verde, nos mostra que a água é completamente evaporada da mistura.  </figcaption>\n",
    "</center>\n",
    "</dt>\n",
    "\n",
    "Como se pode ver, quase toda a água evapora e a glicerina permanece inalterada. Isso se deve a grande diferença de ebulição das duas misturas, e também a quase nula volatilidade do glicerol. Na realidade, extrair e separar toda água da glicerina em um sistema real é impossível não só porque sempre haverá resquícios de água que não evaporou, mas a glicerina é uma substância muito higroscópica, absorvendo o vapor de água do ambiente com tremenda facilidade.\n"
   ]
  },
  {
   "cell_type": "code",
   "execution_count": null,
   "id": "37600641-ddae-489d-8950-350f73ac10fd",
   "metadata": {},
   "outputs": [],
   "source": []
  }
 ],
 "metadata": {
  "kernelspec": {
   "display_name": "ilumpy",
   "language": "python",
   "name": "ilumpy"
  },
  "language_info": {
   "codemirror_mode": {
    "name": "ipython",
    "version": 3
   },
   "file_extension": ".py",
   "mimetype": "text/x-python",
   "name": "python",
   "nbconvert_exporter": "python",
   "pygments_lexer": "ipython3",
   "version": "3.9.7"
  }
 },
 "nbformat": 4,
 "nbformat_minor": 5
}
