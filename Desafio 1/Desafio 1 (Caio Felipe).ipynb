{
 "cells": [
  {
   "cell_type": "markdown",
   "id": "88fc6409-fb03-4764-b765-26c25f8efd3f",
   "metadata": {},
   "source": [
    "## Desafio 1"
   ]
  },
  {
   "cell_type": "markdown",
   "id": "e655cfbb-eb7b-458d-9c67-413d1b399fa1",
   "metadata": {},
   "source": [
    "### Motivação"
   ]
  },
  {
   "cell_type": "markdown",
   "id": "439e273e-5c66-4a2f-9ead-cc2b32135466",
   "metadata": {},
   "source": [
    "Glicerol (C3H8O3) é uma substância produzida como subproduto da síntese de biodiesel sendo em maior parte descartada em processos de purificação por não haver facilidade em usá-lo em combinação com outros compostos para a geração de energia em ciclos como o de Rankine. Por causa disso, encontramos uma mistura com dados suficientes na literatura para trabalharmos com essa substância, água e glicerol. Essa mistura é interessante para entrar no ciclo de Rankine por causa dos desafios que serão enfrentados para utilizá-la como combustível. Obviamente, H2O é uma molécula inerte e não sofre combustão, sua presença é para preencher o critério da mistura binária. Mais a frente, nosso objetivo é isolar o Glicerol e apenas usar ele na combustão. Glicerol em si é uma substância muito desconsiderada no âmbito de combustão e geração de energia térmica por ser uma substância com baixíssima volatilidade, e portanto sua evaporação e ebulição são distantes do padrão de outros combustíveis. No entanto, a equação da combustão completa do glicerol é relativamente limpa em comparação a outros compostos carbônicos, pois sua cadeia é bem menor que as que compõe a gasolina"
   ]
  },
  {
   "cell_type": "markdown",
   "id": "9c913f8d-2e57-480a-9ca0-45cbe977d5f4",
   "metadata": {},
   "source": [
    "### Dados(Entalpia e Diagrama de fase)\n",
    "\n",
    "\"Entalpia é uma grandeza termodinâmica que inclui tanto a energia interna de um sistema quanto o trabalho que o sistema pode realizar em seu ambiente externo.\"\n",
    "\n",
    "Como dito anteriormente, escolhemos a mistura binária de H2O e Glicerol para entrar gerar energia no ciclo de Rankine. Para analisar seu potencial de uso, podemos ter como base entalpia de combustão das duas subtâncias:\n",
    "\n",
    "Glicerol: **Entalpia padrão de combustão ΔcH · –1654.3 kJ/mol \"Wikipedia: Glycerol (data page)\"**\n",
    "\n",
    "H2O: **N/A** (reação inexistente)\n",
    "\n",
    "Com esse dado, podemos ver que existe um potencial uso do Glicerol como combustível para o ciclo de Rankine, considerando a quantidade de energia que se origina de sua combustão completa. A outra substância, H2O, já é totalmente oxidada, e portanto não pode sofrer combustão.\n",
    "\n",
    "Abaixo, o diagrama de fases de nossa mistura, estudada em ambiente isobárico de 8 atm:"
   ]
  },
  {
   "cell_type": "markdown",
   "id": "97e06060-8851-4473-9001-48ff237432c4",
   "metadata": {},
   "source": [
    "<dt><center>\n",
    "<img src=\"Diagrama de fase.png\" style=\"width:400px;height:300px\"/>\n",
    "</center>\n",
    "</dt>"
   ]
  },
  {
   "cell_type": "markdown",
   "id": "0dc2bdc7-f44a-4f4c-8b50-815b5fc76d84",
   "metadata": {},
   "source": [
    "*Nesse diagrama de fases isobárico, percebe-se que a fração molar de água e de glicerol na substância, quando variadas, nos são diferentes pontos de orvalho e de bolha. Em um extremo, quando a concentração de glicerol é máxima, percebe-se que a temperatura de ebulição e orvalho são os máximos. Esses valores decrescem logo que a água começa a ser adicionada, pois as interações de moléculas de glicerol, que garantem sua alta não-volatilidade, começam a ser interferidas pelas pequenas moléculas de água. Assim, quanto mais água no sistema, maior a volatilidade deste.*\n",
    "\n",
    "O diagrama de fases é importante pois com ele conseguimos fazer a separação da mistura, que será um passo fundamental deste projeto."
   ]
  },
  {
   "cell_type": "markdown",
   "id": "3602fb0f-1ce3-43af-b879-6dab5d8ed4af",
   "metadata": {},
   "source": [
    "#### Referências:\n",
    "\n",
    "Schroeder (An Introduction to Thermal Physics)\n",
    "\n",
    "Vídeos do Curso de Termodinâmica Avançada  "
   ]
  }
 ],
 "metadata": {
  "kernelspec": {
   "display_name": "ilumpy",
   "language": "python",
   "name": "ilumpy"
  },
  "language_info": {
   "codemirror_mode": {
    "name": "ipython",
    "version": 3
   },
   "file_extension": ".py",
   "mimetype": "text/x-python",
   "name": "python",
   "nbconvert_exporter": "python",
   "pygments_lexer": "ipython3",
   "version": "3.9.7"
  }
 },
 "nbformat": 4,
 "nbformat_minor": 5
}
